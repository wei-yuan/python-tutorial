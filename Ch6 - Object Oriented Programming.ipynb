{
 "cells": [
  {
   "cell_type": "markdown",
   "metadata": {},
   "source": [
    "# Object Oriented Programming\n",
    "1. Date: 2018/8/31\n",
    "2. Author: Alex Hsu\n",
    "3. Purpose: Take deep learning model AlexNet as an example, create a class of DNN Model\n",
    "4. DataSet: MNIST\n",
    "5. number of classes: 10\n",
    "\n",
    "## Difficulties during imp\n",
    "1. One should be careful about the dimension of weight and bias of each layer\n",
    "\n",
    "References:\n",
    "* Alex Krizhevsky, Ilya Sutskever & Geoffrey E. Hinton. \"ImageNet Classification with Deep Convolutional Neural Networks\". NIPS, 2012.\n",
    "* [rahulbhalley/AlexNet-TensorFlow](https://github.com/rahulbhalley/AlexNet-TensorFlow)\n",
    "* [easy-tensorflow-on-cloud9/aymericdamien-Examples/examples/alexnet.py](https://github.com/hpssjellis/easy-tensorflow-on-cloud9/blob/master/aymericdamien-Examples/examples/alexnet.py)"
   ]
  },
  {
   "cell_type": "code",
   "execution_count": 1,
   "metadata": {},
   "outputs": [
    {
     "name": "stderr",
     "output_type": "stream",
     "text": [
      "/home/alex504/.local/lib/python3.5/site-packages/h5py/__init__.py:36: FutureWarning: Conversion of the second argument of issubdtype from `float` to `np.floating` is deprecated. In future, it will be treated as `np.float64 == np.dtype(float).type`.\n",
      "  from ._conv import register_converters as _register_converters\n"
     ]
    },
    {
     "name": "stdout",
     "output_type": "stream",
     "text": [
      "1.11.0-dev20180823\n"
     ]
    }
   ],
   "source": [
    "import tensorflow as tf\n",
    "\n",
    "print(tf.__version__)"
   ]
  },
  {
   "cell_type": "code",
   "execution_count": 3,
   "metadata": {},
   "outputs": [
    {
     "name": "stdout",
     "output_type": "stream",
     "text": [
      "WARNING:tensorflow:From <ipython-input-3-e40ca225d7c6>:3: read_data_sets (from tensorflow.contrib.learn.python.learn.datasets.mnist) is deprecated and will be removed in a future version.\n",
      "Instructions for updating:\n",
      "Please use alternatives such as official/mnist/dataset.py from tensorflow/models.\n",
      "WARNING:tensorflow:From /home/alex504/.local/lib/python3.5/site-packages/tensorflow/contrib/learn/python/learn/datasets/mnist.py:260: maybe_download (from tensorflow.contrib.learn.python.learn.datasets.base) is deprecated and will be removed in a future version.\n",
      "Instructions for updating:\n",
      "Please write your own downloading logic.\n",
      "WARNING:tensorflow:From /home/alex504/.local/lib/python3.5/site-packages/tensorflow/contrib/learn/python/learn/datasets/mnist.py:262: extract_images (from tensorflow.contrib.learn.python.learn.datasets.mnist) is deprecated and will be removed in a future version.\n",
      "Instructions for updating:\n",
      "Please use tf.data to implement this functionality.\n",
      "Extracting MNIST_data/train-images-idx3-ubyte.gz\n",
      "WARNING:tensorflow:From /home/alex504/.local/lib/python3.5/site-packages/tensorflow/contrib/learn/python/learn/datasets/mnist.py:267: extract_labels (from tensorflow.contrib.learn.python.learn.datasets.mnist) is deprecated and will be removed in a future version.\n",
      "Instructions for updating:\n",
      "Please use tf.data to implement this functionality.\n",
      "Extracting MNIST_data/train-labels-idx1-ubyte.gz\n",
      "WARNING:tensorflow:From /home/alex504/.local/lib/python3.5/site-packages/tensorflow/contrib/learn/python/learn/datasets/mnist.py:110: dense_to_one_hot (from tensorflow.contrib.learn.python.learn.datasets.mnist) is deprecated and will be removed in a future version.\n",
      "Instructions for updating:\n",
      "Please use tf.one_hot on tensors.\n",
      "Extracting MNIST_data/t10k-images-idx3-ubyte.gz\n",
      "Extracting MNIST_data/t10k-labels-idx1-ubyte.gz\n",
      "WARNING:tensorflow:From /home/alex504/.local/lib/python3.5/site-packages/tensorflow/contrib/learn/python/learn/datasets/mnist.py:290: DataSet.__init__ (from tensorflow.contrib.learn.python.learn.datasets.mnist) is deprecated and will be removed in a future version.\n",
      "Instructions for updating:\n",
      "Please use alternatives such as official/mnist/dataset.py from tensorflow/models.\n"
     ]
    }
   ],
   "source": [
    "#mnist = mnist.read_data_sets('.', one_hot=True)\n",
    "from tensorflow.examples.tutorials.mnist import input_data\n",
    "mnist = input_data.read_data_sets('MNIST_data', one_hot=True)\n",
    "\n",
    "# Network Parameters\n",
    "n_inputs = 784 # MNIST data input (img shape: 28*28)\n",
    "n_classes = 10 # MNIST total classes (0-9 digits)\n",
    "learning_rate = 0.001\n",
    "\n",
    "\n",
    "# input and output vector placeholders\n",
    "x = tf.placeholder(tf.float32, [None, n_inputs])\n",
    "y = tf.placeholder(tf.float32, [None, n_classes])"
   ]
  },
  {
   "cell_type": "code",
   "execution_count": 2,
   "metadata": {},
   "outputs": [],
   "source": [
    "class Model(object):\n",
    "    \"\"\"Base model for building the AlexNet model\"\"\"\n",
    "    def __init__(self, input_img, weights, biases, learning_rate):\n",
    "        \"\"\"\n",
    "        Args:\n",
    "            num_classes: The number of classes of the dataset\n",
    "            \n",
    "        \"\"\"              \n",
    "        self._input = input_img\n",
    "        self._weights = weights\n",
    "        self._biases = biases\n",
    "        \n",
    "        if learning_rate:\n",
    "            self.learning_rate = learning_rate  \n",
    "        else: \n",
    "            self.learning_rate = 0.1\n",
    "            \n",
    "    def model_architecture(self, img, weights, biases):        \n",
    "        return img\n",
    "        \n",
    "    def train(self, mode='train'):\n",
    "        return \n",
    "    def inferance(self, mode='inference'):        \n",
    "        return "
   ]
  },
  {
   "cell_type": "code",
   "execution_count": 4,
   "metadata": {},
   "outputs": [],
   "source": [
    "# Weight parameters \n",
    "weights = {\n",
    "    \"wc1\": tf.Variable(tf.truncated_normal([11, 11, 3, 96], stddev=0.01), name=\"wc1\"),\n",
    "    \"wc2\": tf.Variable(tf.truncated_normal([5, 5, 96, 256], stddev=0.01), name=\"wc2\"),\n",
    "    \"wc3\": tf.Variable(tf.truncated_normal([3, 3, 256, 384], stddev=0.01), name=\"wc3\"),\n",
    "    \"wc4\": tf.Variable(tf.truncated_normal([3, 3, 384, 384], stddev=0.01), name=\"wc4\"),\n",
    "    \"wc5\": tf.Variable(tf.truncated_normal([3, 3, 384, 256], stddev=0.01), name=\"wc5\"),\n",
    "    \"wf1\": tf.Variable(tf.truncated_normal([28*28*256, 4096], stddev=0.01), name=\"wf1\"),\n",
    "    \"wf2\": tf.Variable(tf.truncated_normal([4096, 4096], stddev=0.01), name=\"wf2\"),\n",
    "    \"wf3\": tf.Variable(tf.truncated_normal([4096, n_classes], stddev=0.01), name=\"wf3\")\n",
    "}\n",
    "\n",
    "# Bias parameters\n",
    "biases = {\n",
    "    \"bc1\": tf.Variable(tf.constant(0.0, shape=[96]), name=\"bc1\"),\n",
    "    \"bc2\": tf.Variable(tf.constant(1.0, shape=[256]), name=\"bc2\"),\n",
    "    \"bc3\": tf.Variable(tf.constant(0.0, shape=[384]), name=\"bc3\"),\n",
    "    \"bc4\": tf.Variable(tf.constant(1.0, shape=[384]), name=\"bc4\"),\n",
    "    \"bc5\": tf.Variable(tf.constant(1.0, shape=[256]), name=\"bc5\"),\n",
    "    \"bf1\": tf.Variable(tf.constant(1.0, shape=[4096]), name=\"bf1\"),\n",
    "    \"bf2\": tf.Variable(tf.constant(1.0, shape=[4096]), name=\"bf2\"),\n",
    "    \"bf3\": tf.Variable(tf.constant(1.0, shape=[n_classes]), name=\"bf3\")\n",
    "}\n",
    "\n",
    "# fully connected layer\n",
    "fc_layer = lambda x, W, b, name=None: tf.nn.bias_add(tf.matmul(x, W), b)\n",
    "\n",
    "class alexNet(Model):\n",
    "    # overwrite class function model_architecture\n",
    "    def conv_fn(img, weights, biases, strides, padding, name): \n",
    "        conv = tf.nn.conv2d(img, weights=weights, strides=strides, padding=padding, name=name)\n",
    "        conv = tf.nn.bias_add(conv, biases=biases)\n",
    "        conv = tf.nn.relu(conv)            \n",
    "        return conv\n",
    "    \n",
    "    def model_architecture(self, img, weights, biases):\n",
    "        # reshape the input image vector to dimension 227 x 227 x 3\n",
    "        img = tf.reshape(img, [-1, 227, 227, 3])     \n",
    "        \n",
    "        # 1st convolutional layer\n",
    "        #conv1 = conv_fn(img, weights[\"wc1\"], biases[\"bc1\"], strides=[1, 4, 4, 1], padding=\"SAME\", name=\"conv1\")\n",
    "        conv1 = tf.nn.conv2d(img, weights[\"wc1\"], strides=[1, 4, 4, 1], padding=\"SAME\", name=\"conv1\")\n",
    "        conv1 = tf.nn.bias_add(conv1, biases[\"bc1\"])\n",
    "        conv1 = tf.nn.relu(conv1)        \n",
    "        conv1 = tf.nn.local_response_normalization(conv1, depth_radius=5.0, bias=2.0, alpha=1e-4, beta=0.75)\n",
    "        conv1 = tf.nn.max_pool(conv1, ksize=[1, 3, 3, 1], strides=[1, 2, 2, 1], padding=\"VALID\")\n",
    "\n",
    "        # 2nd convolutional layer\n",
    "        #conv2 = conv_fn(img, weights[\"wc2\"], biases[\"bc2\"], strides=[1, 1, 1, 1], padding=\"SAME\", name=\"conv2\")\n",
    "        conv2 = tf.nn.conv2d(conv1, weights[\"wc2\"], strides=[1, 1, 1, 1], padding=\"SAME\", name=\"conv2\")\n",
    "        conv2 = tf.nn.bias_add(conv2, biases[\"bc2\"])\n",
    "        conv2 = tf.nn.relu(conv2)        \n",
    "        conv2 = tf.nn.local_response_normalization(conv2, depth_radius=5.0, bias=2.0, alpha=1e-4, beta=0.75)\n",
    "        conv2 = tf.nn.max_pool(conv2, ksize=[1, 3, 3, 1], strides=[1, 2, 2, 1], padding=\"VALID\")\n",
    "\n",
    "        # 3rd convolutional layer, no max pooling        \n",
    "        #conv3 = conv_fn(img, weights[\"wc3\"], biases[\"bc3\"], strides=[1, 1, 1, 1], padding=\"SAME\", name=\"conv3\")\n",
    "        conv3 = tf.nn.conv2d(conv2, weights[\"wc3\"], strides=[1, 1, 1, 1], padding=\"SAME\", name=\"conv3\")\n",
    "        conv3 = tf.nn.bias_add(conv3, biases[\"bc3\"])\n",
    "        conv3 = tf.nn.relu(conv3)        \n",
    "\n",
    "        # 4th convolutional layer, no max pooling\n",
    "        #conv4 = conv_fn(img, weights[\"wc4\"], biases[\"bc4\"], strides=[1, 1, 1, 1], padding=\"SAME\", name=\"conv4\")\n",
    "        conv4 = tf.nn.conv2d(conv3, weights[\"wc4\"], strides=[1, 1, 1, 1], padding=\"SAME\", name=\"conv4\")\n",
    "        conv4 = tf.nn.bias_add(conv4, biases[\"bc4\"])\n",
    "        conv4 = tf.nn.relu(conv4)        \n",
    "        \n",
    "        # 5th convolutional layer\n",
    "        #conv5 = conv_fn(img, weights[\"wc5\"], biases[\"bc5\"], strides=[1, 1, 1, 1], padding=\"SAME\", name=\"conv5\")\n",
    "        conv5 = tf.nn.conv2d(conv4, weights[\"wc5\"], strides=[1, 1, 1, 1], padding=\"SAME\", name=\"conv5\")\n",
    "        conv5 = tf.nn.bias_add(conv5, biases[\"bc5\"])\n",
    "        conv5 = tf.nn.relu(conv5)        \n",
    "        conv5 = tf.nn.max_pool(conv5, ksize=[1, 3, 3, 1], strides=[1, 2, 2, 1], padding=\"VALID\")        \n",
    "        \n",
    "        # stretching out the 5th convolutional layer into a long vector\n",
    "        shape = [-1, weights['wf1'].get_shape().as_list()[0]]\n",
    "        flatten = tf.reshape(conv5, shape)\n",
    "\n",
    "        # 1st fully connected layer\n",
    "        fc1 = fc_layer(flatten, weights[\"wf1\"], biases[\"bf1\"], name=\"fc1\")\n",
    "        fc1 = tf.nn.relu(fc1)\n",
    "        fc1 = tf.nn.dropout(fc1, keep_prob=0.5)\n",
    "\n",
    "        # 2nd fully connected layer\n",
    "        fc2 = fc_layer(fc1, weights[\"wf2\"], biases[\"bf2\"], name=\"fc2\")\n",
    "        fc2 = tf.nn.relu(fc2)\n",
    "        fc2 = tf.nn.dropout(fc2, keep_prob=0.5)\n",
    "\n",
    "        # 3rd fully connected layer\n",
    "        fc3 = fc_layer(fc2, weights[\"wf3\"], biases[\"bf3\"], name=\"fc3\")\n",
    "        res = tf.nn.softmax(fc3)\n",
    "\n",
    "        # Return the complete AlexNet model\n",
    "        return res"
   ]
  },
  {
   "cell_type": "code",
   "execution_count": 5,
   "metadata": {},
   "outputs": [
    {
     "name": "stdout",
     "output_type": "stream",
     "text": [
      "WARNING:tensorflow:From /home/alex504/.local/lib/python3.5/site-packages/tensorflow/python/util/tf_should_use.py:189: initialize_all_variables (from tensorflow.python.ops.variables) is deprecated and will be removed after 2017-03-02.\n",
      "Instructions for updating:\n",
      "Use `tf.global_variables_initializer` instead.\n"
     ]
    }
   ],
   "source": [
    "# Construct model\n",
    "alex = alexNet(x, weights, biases, learning_rate)\n",
    "pred = alex.model_architecture(x, weights, biases)\n",
    "\n",
    "# Define loss and optimizer\n",
    "loss = tf.reduce_mean(tf.nn.softmax_cross_entropy_with_logits_v2(logits= pred, labels= y))\n",
    "optimizer = tf.train.AdamOptimizer(learning_rate=learning_rate).minimize(loss)\n",
    "\n",
    "# Evaluate model\n",
    "correct_pred = tf.equal(tf.argmax(pred, 1), tf.argmax(y, 1))\n",
    "#accuracy = tf.reduce_mean(tf.cast(correct_pred, tf.types.float32))\n",
    "accuracy = tf.reduce_mean(tf.cast(correct_pred, tf.float32))\n",
    "\n",
    "# Initializing the variables\n",
    "init = tf.global_variables_initializer()"
   ]
  },
  {
   "cell_type": "code",
   "execution_count": 6,
   "metadata": {},
   "outputs": [
    {
     "ename": "NameError",
     "evalue": "name 'batch_size' is not defined",
     "output_type": "error",
     "traceback": [
      "\u001b[0;31m---------------------------------------------------------------------------\u001b[0m",
      "\u001b[0;31mNameError\u001b[0m                                 Traceback (most recent call last)",
      "\u001b[0;32m<ipython-input-6-196bac69392e>\u001b[0m in \u001b[0;36m<module>\u001b[0;34m()\u001b[0m\n\u001b[1;32m      4\u001b[0m     \u001b[0mstep\u001b[0m \u001b[0;34m=\u001b[0m \u001b[0;36m1\u001b[0m\u001b[0;34m\u001b[0m\u001b[0m\n\u001b[1;32m      5\u001b[0m     \u001b[0;31m# Keep training until reach max iterations\u001b[0m\u001b[0;34m\u001b[0m\u001b[0;34m\u001b[0m\u001b[0m\n\u001b[0;32m----> 6\u001b[0;31m     \u001b[0;32mwhile\u001b[0m \u001b[0mstep\u001b[0m \u001b[0;34m*\u001b[0m \u001b[0mbatch_size\u001b[0m \u001b[0;34m<\u001b[0m \u001b[0mtraining_iters\u001b[0m\u001b[0;34m:\u001b[0m\u001b[0;34m\u001b[0m\u001b[0m\n\u001b[0m\u001b[1;32m      7\u001b[0m         \u001b[0mbatch_xs\u001b[0m\u001b[0;34m,\u001b[0m \u001b[0mbatch_ys\u001b[0m \u001b[0;34m=\u001b[0m \u001b[0mmnist\u001b[0m\u001b[0;34m.\u001b[0m\u001b[0mtrain\u001b[0m\u001b[0;34m.\u001b[0m\u001b[0mnext_batch\u001b[0m\u001b[0;34m(\u001b[0m\u001b[0mbatch_size\u001b[0m\u001b[0;34m)\u001b[0m\u001b[0;34m\u001b[0m\u001b[0m\n\u001b[1;32m      8\u001b[0m         \u001b[0;31m# Fit training using batch data\u001b[0m\u001b[0;34m\u001b[0m\u001b[0;34m\u001b[0m\u001b[0m\n",
      "\u001b[0;31mNameError\u001b[0m: name 'batch_size' is not defined"
     ]
    }
   ],
   "source": [
    "batch_size = 64\n",
    "\n",
    "# Launch the graph\n",
    "with tf.Session() as sess:\n",
    "    sess.run(init)\n",
    "    step = 1\n",
    "    # Keep training until reach max iterations\n",
    "    while step * batch_size < training_iters:\n",
    "        batch_xs, batch_ys = mnist.train.next_batch(batch_size)\n",
    "        # Fit training using batch data\n",
    "        sess.run(optimizer, feed_dict={x: batch_xs, y: batch_ys})\n",
    "        if step % display_step == 0:\n",
    "            # Calculate batch accuracy\n",
    "            acc = sess.run(accuracy, feed_dict={x: batch_xs, y: batch_ys})\n",
    "            # Calculate batch loss\n",
    "            loss = sess.run(cost, feed_dict={x: batch_xs, y: batch_ys})\n",
    "            print (\"Iter \" + str(step*batch_size) + \", Minibatch Loss= \" + \"{:.6f}\".format(loss) + \", Training Accuracy= \" + \"{:.5f}\".format(acc))\n",
    "        step += 1\n",
    "    print (\"Optimization Finished!\")\n",
    "    # Calculate accuracy for 256 mnist test images\n",
    "    print (\"Testing Accuracy:\", sess.run(accuracy, feed_dict={x: mnist.test.images[:256], y: mnist.test.labels[:256]}))"
   ]
  }
 ],
 "metadata": {
  "kernelspec": {
   "display_name": "Python 3",
   "language": "python",
   "name": "python3"
  },
  "language_info": {
   "codemirror_mode": {
    "name": "ipython",
    "version": 3
   },
   "file_extension": ".py",
   "mimetype": "text/x-python",
   "name": "python",
   "nbconvert_exporter": "python",
   "pygments_lexer": "ipython3",
   "version": "3.5.2"
  }
 },
 "nbformat": 4,
 "nbformat_minor": 2
}
