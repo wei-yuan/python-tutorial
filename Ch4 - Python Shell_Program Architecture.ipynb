{
 "cells": [
  {
   "cell_type": "markdown",
   "metadata": {},
   "source": [
    "# Python Shell\n",
    "This ipython notebook demonstrate some of the common built-in functions like `zip()`, `map()` etc"
   ]
  },
  {
   "cell_type": "code",
   "execution_count": 1,
   "metadata": {},
   "outputs": [],
   "source": [
    "list_x = [1, 2, 3, 4]\n",
    "list_y = [5, 6, 7, 8]\n",
    "list_z = ['a', 'b', 'c', 'd']\n",
    "\n",
    "tuple_x = (1, 2, 3, 4)\n",
    "tuple_y = (5, 6, 7, 8)\n",
    "tuple_z = ('a', 'b', 'c', 'd')"
   ]
  },
  {
   "cell_type": "markdown",
   "metadata": {},
   "source": [
    "## zip() \n",
    "function zip() combines multiple input of lists or tuples. The following example shows how zip() works with other APIs."
   ]
  },
  {
   "cell_type": "markdown",
   "metadata": {},
   "source": [
    "### zip lists"
   ]
  },
  {
   "cell_type": "code",
   "execution_count": 2,
   "metadata": {
    "scrolled": true
   },
   "outputs": [
    {
     "name": "stdout",
     "output_type": "stream",
     "text": [
      "1 5\n",
      "2 6\n",
      "3 7\n",
      "4 8\n"
     ]
    }
   ],
   "source": [
    "for item1, itme2 in zip(list_x, list_y):\n",
    "    print (item1, itme2)"
   ]
  },
  {
   "cell_type": "code",
   "execution_count": 3,
   "metadata": {
    "scrolled": true
   },
   "outputs": [
    {
     "name": "stdout",
     "output_type": "stream",
     "text": [
      "1 5 a\n",
      "2 6 b\n",
      "3 7 c\n",
      "4 8 d\n"
     ]
    }
   ],
   "source": [
    "for item1, itme2, item3 in zip(list_x, list_y, list_z):\n",
    "    print (item1, itme2, item3)"
   ]
  },
  {
   "cell_type": "markdown",
   "metadata": {},
   "source": [
    "### List comprehension\n",
    "\n",
    "In Python, the following expression \n",
    "```python\n",
    "for element in data_structure :\n",
    "    if element is not None:\n",
    "        expression() \n",
    "```\n",
    "\n",
    "is equal to \n",
    "\n",
    "```python\n",
    "[expression() for element in data_structure if element is not None]\n",
    "```\n",
    "The above is so called **List comprehension**\n"
   ]
  },
  {
   "cell_type": "code",
   "execution_count": 4,
   "metadata": {
    "scrolled": true
   },
   "outputs": [
    {
     "name": "stdout",
     "output_type": "stream",
     "text": [
      "1 5\n",
      "2 6\n",
      "3 7\n",
      "4 8\n"
     ]
    }
   ],
   "source": [
    "list_ex1 = [print (item1, itme2) for item1, itme2 in zip(list_x, list_y)]"
   ]
  },
  {
   "cell_type": "markdown",
   "metadata": {},
   "source": [
    "#### Why do we have empty list here?\n",
    "since generators can only be used once, so the list `list_ex1` shows `[None, None, None, None]`"
   ]
  },
  {
   "cell_type": "code",
   "execution_count": 5,
   "metadata": {},
   "outputs": [
    {
     "name": "stdout",
     "output_type": "stream",
     "text": [
      "[None, None, None, None]\n"
     ]
    }
   ],
   "source": [
    "print (list_ex1)"
   ]
  },
  {
   "cell_type": "markdown",
   "metadata": {},
   "source": [
    "### zip tuples"
   ]
  },
  {
   "cell_type": "code",
   "execution_count": 6,
   "metadata": {},
   "outputs": [
    {
     "name": "stdout",
     "output_type": "stream",
     "text": [
      "1 5\n",
      "2 6\n",
      "3 7\n",
      "4 8\n"
     ]
    }
   ],
   "source": [
    "for item1, itme2 in zip(tuple_x, tuple_y):\n",
    "    print (item1, itme2)"
   ]
  },
  {
   "cell_type": "code",
   "execution_count": 7,
   "metadata": {},
   "outputs": [
    {
     "name": "stdout",
     "output_type": "stream",
     "text": [
      "1 5 a\n",
      "2 6 b\n",
      "3 7 c\n",
      "4 8 d\n"
     ]
    }
   ],
   "source": [
    "for item1, itme2, item3 in zip(tuple_x, tuple_y, tuple_z):\n",
    "    print (item1, itme2, item3)"
   ]
  },
  {
   "cell_type": "markdown",
   "metadata": {},
   "source": [
    "### Note\n",
    "It is worth pointing out that zip()  create a `zip object` "
   ]
  },
  {
   "cell_type": "code",
   "execution_count": 8,
   "metadata": {},
   "outputs": [
    {
     "name": "stdout",
     "output_type": "stream",
     "text": [
      "<zip object at 0x7f788e7c8a88>\n"
     ]
    }
   ],
   "source": [
    "print (zip(list_x, list_y))"
   ]
  },
  {
   "cell_type": "markdown",
   "metadata": {},
   "source": [
    "## iter()\n",
    "Many programming languages like Python and C++ iterate member of iteratrable data structure by iterators. \n",
    "\n",
    "\n",
    "### iterator protocol\n",
    "Every class which follows the **iterator protocol** has the `__next()__` method, that means every time you want to access the next value of data structure (which is iteratrable, of course), the `__next()__` method helps you to do so. You do not need to worry about how they do it. If you wish to know more about iterator protocol, there is more in reference [1]\n",
    "\n",
    "Let's take a look at how iterator works in Python. `Iter()` takes an iterable object and return an iterator, besides in Python 3.X, the `next()` method has changed its name to `__name()__`. Or, if `x_iter` is a iterable object, you can just `next(x_iter)`. \n",
    "\n",
    "Reference:\n",
    "1. [Python Iterator Tutorial](https://www.datacamp.com/community/tutorials/python-iterator-tutorial#iterators)"
   ]
  },
  {
   "cell_type": "code",
   "execution_count": 9,
   "metadata": {},
   "outputs": [
    {
     "name": "stdout",
     "output_type": "stream",
     "text": [
      "list_x:  [1, 2, 3, 4]\n",
      "element in list_x is:  1\n",
      "element in list_x is:  2\n",
      "element in list_x is:  3\n",
      "element in list_x is:  4\n"
     ]
    }
   ],
   "source": [
    "print (\"list_x: \", list_x)\n",
    "\n",
    "x_iter = iter(list_x)\n",
    "# x_iter.__next__ ()\n",
    "print (\"element in list_x is: \", x_iter.__next__())\n",
    "print (\"element in list_x is: \", x_iter.__next__())\n",
    "# next(x_iter)\n",
    "print (\"element in list_x is: \", next(x_iter))\n",
    "print (\"element in list_x is: \", next(x_iter))"
   ]
  },
  {
   "cell_type": "markdown",
   "metadata": {},
   "source": [
    "### Itertools\n",
    "* `Itertools` is a built-in Python funciton module contains functions creating iterators for efficient looping\n",
    "\n",
    "Reference:\n",
    "1. [10.1. itertools — Functions creating iterators for efficient looping](https://docs.python.org/3.6/library/itertools.html)"
   ]
  },
  {
   "cell_type": "markdown",
   "metadata": {},
   "source": [
    "### starmap()\n",
    "`starmap()` make an iterator that computes the function using arguments obtained from the iterable.\n",
    "\n",
    "API: `itertools.starmap(function, iterable)`\n",
    "\n",
    "Reference:\n",
    "1. [starmap()](https://docs.python.org/3.6/library/itertools.html#itertools.starmap)\n",
    "2. [ *args and \\**kwargs](http://book.pythontips.com/en/latest/args_and_kwargs.html)\n",
    "3. [Packing and Unpacking Arguments in Python](https://www.geeksforgeeks.org/packing-and-unpacking-arguments-in-python/)"
   ]
  },
  {
   "cell_type": "code",
   "execution_count": 10,
   "metadata": {},
   "outputs": [
    {
     "name": "stdout",
     "output_type": "stream",
     "text": [
      "32 9 1000\n"
     ]
    }
   ],
   "source": [
    "def starmap(function, iterable):    \n",
    "    for args in iterable:\n",
    "        yield function(*args) # *\n",
    "\n",
    "# function(*args): * stands for unpacking argument list\n",
    "pow_ex = starmap(pow, [(2,5), (3,2), (10,3)])\n",
    "print (*pow_ex)"
   ]
  },
  {
   "cell_type": "code",
   "execution_count": 13,
   "metadata": {},
   "outputs": [
    {
     "name": "stdout",
     "output_type": "stream",
     "text": [
      "32 9 1000\n"
     ]
    }
   ],
   "source": [
    "print (*starmap(pow, [(2,5), (3,2), (10,3)])) #--> 32 9 1000"
   ]
  }
 ],
 "metadata": {
  "kernelspec": {
   "display_name": "Python 3",
   "language": "python",
   "name": "python3"
  },
  "language_info": {
   "codemirror_mode": {
    "name": "ipython",
    "version": 3
   },
   "file_extension": ".py",
   "mimetype": "text/x-python",
   "name": "python",
   "nbconvert_exporter": "python",
   "pygments_lexer": "ipython3",
   "version": "3.5.2"
  }
 },
 "nbformat": 4,
 "nbformat_minor": 2
}
