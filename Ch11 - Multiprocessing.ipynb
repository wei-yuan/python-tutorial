{
 "cells": [
  {
   "cell_type": "markdown",
   "metadata": {},
   "source": [
    "# Multiprocessing\n",
    "A short tutorial of API `multiprocessing`: https://hackmd.io/s/Hk9YAUNEm"
   ]
  },
  {
   "cell_type": "code",
   "execution_count": 4,
   "metadata": {},
   "outputs": [],
   "source": [
    "import multiprocessing as mp\n",
    "import random\n",
    "from itertools import starmap\n",
    "from operator import mul\n",
    "\n",
    "import numpy as np"
   ]
  },
  {
   "cell_type": "markdown",
   "metadata": {},
   "source": [
    "### pythonic way\n",
    "itertools: \n",
    "    * [starmap](https://docs.python.org/3.6/library/itertools.html#itertools.starmap)\n",
    "operator:\n",
    "    * [mul](https://docs.python.org/3.6/library/operator.html): operator.mul(a,b) equals to number a * number b"
   ]
  },
  {
   "cell_type": "code",
   "execution_count": 12,
   "metadata": {},
   "outputs": [],
   "source": [
    "class two_dim_square_matrix(object):\n",
    "    data = None\n",
    "    size = None\n",
    "    dimension = None\n",
    "    \n",
    "    def __init__(self):\n",
    "        \"\"\"\n",
    "        data: data stored in the matrix\n",
    "        \n",
    "        size: max number of row (= column)\n",
    "        \n",
    "        dimension: dimension of the matrix\n",
    "        \"\"\"\n",
    "        self.data = np.zeros((1,1), dtype=int)\n",
    "        self.size = 1\n",
    "        self.dimension = 2\n",
    "    \n",
    "    def random_generation(self, size):\n",
    "        \"\"\"\n",
    "        dimension: input a tuple or list of matrix dimension \n",
    "                    ex. [1, 1]\n",
    "        \"\"\"\n",
    "        self.data = np.random.rand(*size) # *: unpack input python data structure\n",
    "        self.dimension = len(size)\n",
    "    \n",
    "    def calc_element(mat_A_row, mat_B_col):\n",
    "        \"\"\"\n",
    "        element cij = A ith row * B jth column\n",
    "        \"\"\"                        \n",
    "        return sum( starmap(mul, zip(mat_A_row, mat_B_col))) \n",
    "        \n",
    "    \n",
    "    def multiply(mat):\n",
    "        num_cores = multiprocessing.cpu_count()\n",
    "        pool = multiprocessing.Pool(num_cores)\n",
    "        for i in range(1, self.size):\n",
    "            for j in range(1, self.size):\n",
    "                pool.map(calc_stuff(self.data[i, :], mat[:, j]))\n",
    "        #out = zip(*pool.map(calc_stuff, range(0, self.size)))"
   ]
  },
  {
   "cell_type": "code",
   "execution_count": 15,
   "metadata": {},
   "outputs": [
    {
     "ename": "SyntaxError",
     "evalue": "invalid syntax (<ipython-input-15-41a9caf4f3cf>, line 1)",
     "output_type": "error",
     "traceback": [
      "\u001b[0;36m  File \u001b[0;32m\"<ipython-input-15-41a9caf4f3cf>\"\u001b[0;36m, line \u001b[0;32m1\u001b[0m\n\u001b[0;31m    a = two_dim_square_matrix.random_generation(,[2, 2])\u001b[0m\n\u001b[0m                                                ^\u001b[0m\n\u001b[0;31mSyntaxError\u001b[0m\u001b[0;31m:\u001b[0m invalid syntax\n"
     ]
    }
   ],
   "source": [
    "a = two_dim_square_matrix.random_generation([2, 2])\n",
    "b = two_dim_square_matrix.random_generation([2, 2])"
   ]
  }
 ],
 "metadata": {
  "kernelspec": {
   "display_name": "Python 3",
   "language": "python",
   "name": "python3"
  },
  "language_info": {
   "codemirror_mode": {
    "name": "ipython",
    "version": 3
   },
   "file_extension": ".py",
   "mimetype": "text/x-python",
   "name": "python",
   "nbconvert_exporter": "python",
   "pygments_lexer": "ipython3",
   "version": "3.5.2"
  }
 },
 "nbformat": 4,
 "nbformat_minor": 2
}
